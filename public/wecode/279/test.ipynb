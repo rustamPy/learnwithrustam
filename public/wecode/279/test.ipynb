import numpy as np
import matplotlib.pyplot as plt
from scipy.signal import savgol_filter

# Generate x values
x = np.linspace(0,
4*np.pi,
1000)

# Generate y values (noisy sine wave)
y = np.sin(x) + np.random.normal(0,
0.2, x.shape)

# Apply Savitzky-Golay filter
window_length = 51  # Must be odd
poly_order = 3  # Polynomial order
y_smooth = savgol_filter(y, window_length, poly_order)

# Plot the results
plt.figure(figsize=(12,
6))
plt.plot(x, y, label='Noisy data', alpha=0.5)
plt.plot(x, y_smooth, label='Smoothed data', color='red')
plt.legend()
plt.title('Savitzky-Golay Filter Example')
plt.xlabel('X')
plt.ylabel('Y')
plt.grid(True)
plt.show()